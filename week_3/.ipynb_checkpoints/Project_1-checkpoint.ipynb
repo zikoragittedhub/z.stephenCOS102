{
 "cells": [
  {
   "cell_type": "code",
   "execution_count": 1,
   "id": "c4dc0e49-c990-4390-89d8-95a5e9d7213e",
   "metadata": {},
   "outputs": [
    {
     "name": "stdout",
     "output_type": "stream",
     "text": [
      "Name | Age | Height | Score\n",
      "Evelyn | 17 | 5.5 | 80\n",
      "Jessica | 16 | 6 | 85\n",
      "Somto | 17 | 5.4 | 70\n",
      "Edith | 18 | 5.9 | 60\n",
      "Liza | 16 | 5.6 | 76\n",
      "Madonna | 18 | 5.5 | 66\n",
      "Waje | 17 | 6.1 | 87\n",
      "Tola | 20 | 6 | 95\n",
      "Aisha | 19 | 5.7 | 50\n",
      "Latifa | 17 | 5.5 | 49\n",
      "Chinedu | 19 | 5.7 | 74\n",
      "Liam | 16 | 5.9 | 87\n",
      "Wale | 18 | 5.8 | 75\n",
      "Gbenga | 17 | 6.1 | 68\n",
      "Abiola | 20 | 5.9 | 66\n",
      "Kola | 19 | 5.5 | 78\n",
      "Kunle | 16 | 6.1 | 87\n",
      "George | 18 | 5.4 | 98\n",
      "Thomas | 17 | 5.8 | 54\n",
      "Wesley | 19 | 5.7 | 60\n"
     ]
    }
   ],
   "source": [
    "girls = [\"Evelyn\", \"Jessica\", \"Somto\", \"Edith\", \"Liza\", \"Madonna\", \"Waje\", \"Tola\", \"Aisha\", \"Latifa\"]\n",
    "\n",
    "g_ages = [17, 16, 17, 18, 16, 18, 17, 20, 19, 17]\n",
    "g_heights = [5.5, 6, 5.4, 5.9, 5.6, 5.5, 6.1, 6, 5.7, 5.5]\n",
    "g_scores = [80, 85, 70, 60, 76, 66, 87, 95, 50, 49]\n",
    "\n",
    "boys = [\"Chinedu\", \"Liam\", \"Wale\", \"Gbenga\", \"Abiola\", \"Kola\", \"Kunle\", \"George\", \"Thomas\", \"Wesley\"]\n",
    "b_ages = [19, 16, 18, 17, 20, 19, 16, 18, 17, 19]\n",
    "b_heights = [5.7, 5.9, 5.8, 6.1, 5.9, 5.5, 6.1, 5.4, 5.8, 5.7]\n",
    "b_scores = [74, 87, 75, 68, 66, 78, 87, 98, 54, 60]\n",
    "\n",
    "print(\"Name | Age | Height | Score\")\n",
    "\n",
    "for i in range(len(girls)):\n",
    "  print(girls[i], \"|\", g_ages[i], \"|\", g_heights[i], \"|\", g_scores[i])\n",
    "\n",
    "for i in range(len(boys)):\n",
    "  print(boys[i], \"|\", b_ages[i], \"|\", b_heights[i], \"|\", b_scores[i])"
   ]
  },
  {
   "cell_type": "code",
   "execution_count": null,
   "id": "0f3a9c86-4e86-4e09-8d3b-374e7f0e739e",
   "metadata": {},
   "outputs": [],
   "source": []
  }
 ],
 "metadata": {
  "kernelspec": {
   "display_name": "Python [conda env:base] *",
   "language": "python",
   "name": "conda-base-py"
  },
  "language_info": {
   "codemirror_mode": {
    "name": "ipython",
    "version": 3
   },
   "file_extension": ".py",
   "mimetype": "text/x-python",
   "name": "python",
   "nbconvert_exporter": "python",
   "pygments_lexer": "ipython3",
   "version": "3.12.7"
  }
 },
 "nbformat": 4,
 "nbformat_minor": 5
}
