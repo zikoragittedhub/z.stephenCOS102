{
 "cells": [
  {
   "cell_type": "code",
   "execution_count": null,
   "id": "2757c639-27ff-4200-a35c-55ea5d04a08d",
   "metadata": {},
   "outputs": [
    {
     "name": "stdout",
     "output_type": "stream",
     "text": [
      "Welcome to Izifin Technolgy's ATR Calculator \n",
      "\n"
     ]
    }
   ],
   "source": [
    "print(\"Welcome to Izifin Technolgy's ATR Calculator \\n\")\n",
    "\n",
    "while True:\n",
    "  option = int(input(\"\"\"\n",
    "Choose an action:\n",
    "1. Calculate staff Annual Tax Revenue (ATR)\n",
    "2. End program\n",
    "\"\"\"))\n",
    "\n",
    "  if option == 2:\n",
    "    break\n",
    "\n",
    "  years_of_exp = int(input(\"Enter staff years of experience: \"))\n",
    "  age = int(input(\"Enter staff age: \"))"
   ]
  },
  {
   "cell_type": "code",
   "execution_count": null,
   "id": "99f2d22a-46fc-4c84-8570-8b56e8256b8c",
   "metadata": {},
   "outputs": [],
   "source": []
  }
 ],
 "metadata": {
  "kernelspec": {
   "display_name": "Python [conda env:base] *",
   "language": "python",
   "name": "conda-base-py"
  },
  "language_info": {
   "codemirror_mode": {
    "name": "ipython",
    "version": 3
   },
   "file_extension": ".py",
   "mimetype": "text/x-python",
   "name": "python",
   "nbconvert_exporter": "python",
   "pygments_lexer": "ipython3",
   "version": "3.12.7"
  }
 },
 "nbformat": 4,
 "nbformat_minor": 5
}
