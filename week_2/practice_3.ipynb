{
 "cells": [
  {
   "cell_type": "code",
   "execution_count": 8,
   "id": "78dc60ac-1808-49a6-b174-f55ce5516e0a",
   "metadata": {},
   "outputs": [
    {
     "name": "stdout",
     "output_type": "stream",
     "text": [
      "['Anaconda', 786, 2.23, 'Jupyter', 70.2]\n",
      "Anaconda\n",
      "[786, 2.23]\n",
      "[2.23, 'Jupyter', 70.2]\n",
      "[321, 'Python', 321, 'Python']\n",
      "['Anaconda', 786, 2.23, 'Jupyter', 70.2, 321, 'Python']\n"
     ]
    }
   ],
   "source": [
    "list = ['Anaconda', 786, 2.23, 'Jupyter', 70.2]\n",
    "shortlist = [321, 'Python']\n",
    "\n",
    "print(list)  # Print complete list\n",
    "print(list[0])  # Print first element of the list\n",
    "print(list[1:3]) # Print elemrnt of the list \n",
    "print(list[2:])  # Print elements starting from 3rd element \n",
    "print(shortlist * 2) # Print list two times \n",
    "print(list + shortlist) # Print concatenated lists "
   ]
  },
  {
   "cell_type": "code",
   "execution_count": null,
   "id": "76a3b8a8-ccdf-4c04-8576-455e92b1f3aa",
   "metadata": {},
   "outputs": [],
   "source": []
  }
 ],
 "metadata": {
  "kernelspec": {
   "display_name": "Python [conda env:base] *",
   "language": "python",
   "name": "conda-base-py"
  },
  "language_info": {
   "codemirror_mode": {
    "name": "ipython",
    "version": 3
   },
   "file_extension": ".py",
   "mimetype": "text/x-python",
   "name": "python",
   "nbconvert_exporter": "python",
   "pygments_lexer": "ipython3",
   "version": "3.12.7"
  }
 },
 "nbformat": 4,
 "nbformat_minor": 5
}
