{
 "cells": [
  {
   "cell_type": "code",
   "execution_count": 3,
   "id": "b935b96b-08d1-4603-8fa1-49f6b52afe58",
   "metadata": {},
   "outputs": [
    {
     "name": "stdin",
     "output_type": "stream",
     "text": [
      "Enter your state of origin enugu\n"
     ]
    },
    {
     "name": "stdout",
     "output_type": "stream",
     "text": [
      "your state of origin is:  enugu\n",
      "the first character is: e\n",
      "the character starting from 3rd to 5th are: ugu\n",
      "the string starting from 3rd character is: ugu\n",
      "state of orgin two times enuguenugu\n"
     ]
    }
   ],
   "source": [
    "str = input(\"Enter your state of origin\")\n",
    "\n",
    "print (\"your state of origin is: \",str)\n",
    "print (\"the first character is:\", str[0])\n",
    "print (\"the character starting from 3rd to 5th are:\", str[2:5])\n",
    "print (\"the string starting from 3rd character is:\", str[2:])\n",
    "print (\"state of orgin two times\", str * 2)"
   ]
  },
  {
   "cell_type": "code",
   "execution_count": null,
   "id": "a491e4f6-bba3-472d-8037-21107d8b6a41",
   "metadata": {},
   "outputs": [],
   "source": []
  }
 ],
 "metadata": {
  "kernelspec": {
   "display_name": "Python [conda env:base] *",
   "language": "python",
   "name": "conda-base-py"
  },
  "language_info": {
   "codemirror_mode": {
    "name": "ipython",
    "version": 3
   },
   "file_extension": ".py",
   "mimetype": "text/x-python",
   "name": "python",
   "nbconvert_exporter": "python",
   "pygments_lexer": "ipython3",
   "version": "3.12.7"
  }
 },
 "nbformat": 4,
 "nbformat_minor": 5
}
