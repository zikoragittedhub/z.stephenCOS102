{
 "cells": [
  {
   "cell_type": "code",
   "execution_count": 3,
   "id": "855c67a8-78ec-4d70-baf0-dbb4291aebf0",
   "metadata": {},
   "outputs": [
    {
     "name": "stdin",
     "output_type": "stream",
     "text": [
      "Enter mass in kilograms:  2\n"
     ]
    },
    {
     "name": "stdout",
     "output_type": "stream",
     "text": [
      "The energy equivalent to 2.0 kg of mass is 1.7975103574736352e+17 joules.\n"
     ]
    }
   ],
   "source": [
    "#input from user\n",
    "m = float(input(\"Enter mass in kilograms: \"))\n",
    "\n",
    "# constant values for the speed of light in m/s\n",
    "c = 299792458\n",
    "\n",
    "#calculating energy using Einstein's eguation \n",
    "energy = m * c ** 2\n",
    "\n",
    "#displayig the result\n",
    "print(f\"The energy equivalent to {m} kg of mass is {energy} joules.\")"
   ]
  },
  {
   "cell_type": "code",
   "execution_count": null,
   "id": "37b808ee-ae8f-424a-9ea4-b665ad093296",
   "metadata": {},
   "outputs": [],
   "source": []
  }
 ],
 "metadata": {
  "kernelspec": {
   "display_name": "Python [conda env:base] *",
   "language": "python",
   "name": "conda-base-py"
  },
  "language_info": {
   "codemirror_mode": {
    "name": "ipython",
    "version": 3
   },
   "file_extension": ".py",
   "mimetype": "text/x-python",
   "name": "python",
   "nbconvert_exporter": "python",
   "pygments_lexer": "ipython3",
   "version": "3.12.7"
  }
 },
 "nbformat": 4,
 "nbformat_minor": 5
}
