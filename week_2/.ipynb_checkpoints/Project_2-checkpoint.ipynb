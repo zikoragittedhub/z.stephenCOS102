{
 "cells": [
  {
   "cell_type": "code",
   "execution_count": 2,
   "id": "f1b433e1-6aa4-4d89-b0a4-2ee3f338d3ab",
   "metadata": {},
   "outputs": [
    {
     "name": "stdout",
     "output_type": "stream",
     "text": [
      "Choose an equation type:\n",
      "1. Quadratic (ax^2 + bx + c = 0)\n",
      "2. Cubic (ax^3 + bx^2 + cx + d = 0)\n",
      "3. Quartic (ax^4 + bx^3 + cx^2 + dx + e = 0)\n"
     ]
    },
    {
     "name": "stdin",
     "output_type": "stream",
     "text": [
      "Enter your choice (1/2/3):  1\n",
      "Enter coefficient a:  2\n",
      "Enter coefficient b:  3\n",
      "Enter coefficient c:  4\n"
     ]
    },
    {
     "name": "stdout",
     "output_type": "stream",
     "text": [
      "Two complex roots: -0.75 ± 1.1989578808281798i\n"
     ]
    }
   ],
   "source": [
    "import math\n",
    "import sympy as sp\n",
    "\n",
    "def solve_quadratic(a, b, c):\n",
    "    \"\"\"Solves a quadratic equation: ax^2 + bx + c = 0\"\"\"\n",
    "    discriminant = b**2 - 4*a*c\n",
    "    \n",
    "    if discriminant > 0:\n",
    "        root1 = (-b + math.sqrt(discriminant)) / (2*a)\n",
    "        root2 = (-b - math.sqrt(discriminant)) / (2*a)\n",
    "        return f\"Two real roots: {root1}, {root2}\"\n",
    "    elif discriminant == 0:\n",
    "        root = -b / (2*a)\n",
    "        return f\"One real root: {root}\"\n",
    "    else:\n",
    "        real_part = -b / (2*a)\n",
    "        imaginary_part = math.sqrt(abs(discriminant)) / (2*a)\n",
    "        return f\"Two complex roots: {real_part} ± {imaginary_part}i\"\n",
    "\n",
    "def solve_cubic(a, b, c, d):\n",
    "    \"\"\"Solves a cubic equation: ax^3 + bx^2 + cx + d = 0\"\"\"\n",
    "    x = sp.Symbol('x')\n",
    "    equation = a*x**3 + b*x**2 + c*x + d\n",
    "    roots = sp.solve(equation, x)\n",
    "    return f\"Cubic equation roots: {roots}\"\n",
    "\n",
    "def solve_quartic(a, b, c, d, e):\n",
    "    \"\"\"Solves a quartic equation: ax^4 + bx^3 + cx^2 + dx + e = 0\"\"\"\n",
    "    x = sp.Symbol('x')\n",
    "    equation = a*x**4 + b*x**3 + c*x**2 + d*x + e\n",
    "    roots = sp.solve(equation, x)\n",
    "    return f\"Quartic equation roots: {roots}\"\n",
    "\n",
    "# User Menu\n",
    "print(\"Choose an equation type:\")\n",
    "print(\"1. Quadratic (ax^2 + bx + c = 0)\")\n",
    "print(\"2. Cubic (ax^3 + bx^2 + cx + d = 0)\")\n",
    "print(\"3. Quartic (ax^4 + bx^3 + cx^2 + dx + e = 0)\")\n",
    "\n",
    "choice = input(\"Enter your choice (1/2/3): \")\n",
    "\n",
    "if choice == '1':\n",
    "    a = float(input(\"Enter coefficient a: \"))\n",
    "    b = float(input(\"Enter coefficient b: \"))\n",
    "    c = float(input(\"Enter coefficient c: \"))\n",
    "    print(solve_quadratic(a, b, c))\n",
    "\n",
    "elif choice == '2':\n",
    "    a = float(input(\"Enter coefficient a: \"))\n",
    "    b = float(input(\"Enter coefficient b: \"))\n",
    "    c = float(input(\"Enter coefficient c: \"))\n",
    "    d = float(input(\"Enter coefficient d: \"))\n",
    "    print(solve_cubic(a, b, c, d))\n",
    "\n",
    "elif choice == '3':\n",
    "    a = float(input(\"Enter coefficient a: \"))\n",
    "    b = float(input(\"Enter coefficient b: \"))\n",
    "    c = float(input(\"Enter coefficient c: \"))\n",
    "    d = float(input(\"Enter coefficient d: \"))\n",
    "    e = float(input(\"Enter coefficient e: \"))\n",
    "    print(solve_quartic(a, b, c, d, e))\n",
    "\n",
    "else:\n",
    "    print(\"Invalid choice. Please select 1, 2, or 3.\")\n"
   ]
  },
  {
   "cell_type": "code",
   "execution_count": null,
   "id": "fdef19d4-1924-4b3d-bfad-2348035e05a2",
   "metadata": {},
   "outputs": [],
   "source": []
  }
 ],
 "metadata": {
  "kernelspec": {
   "display_name": "Python [conda env:base] *",
   "language": "python",
   "name": "conda-base-py"
  },
  "language_info": {
   "codemirror_mode": {
    "name": "ipython",
    "version": 3
   },
   "file_extension": ".py",
   "mimetype": "text/x-python",
   "name": "python",
   "nbconvert_exporter": "python",
   "pygments_lexer": "ipython3",
   "version": "3.12.7"
  }
 },
 "nbformat": 4,
 "nbformat_minor": 5
}
