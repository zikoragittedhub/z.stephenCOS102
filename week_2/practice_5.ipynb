{
 "cells": [
  {
   "cell_type": "code",
   "execution_count": 15,
   "id": "59ccc70d-27a3-40c7-b706-74687488082a",
   "metadata": {},
   "outputs": [
    {
     "name": "stdout",
     "output_type": "stream",
     "text": [
      "False\n",
      "False\n",
      "False\n",
      "False\n",
      "True\n"
     ]
    }
   ],
   "source": [
    "# returns false as game_1 is not equa to game_2\n",
    "game_1 = 2\n",
    "game_2 = 4\n",
    "print(bool(game_1 == game_2))\n",
    "# OR\n",
    "print(game_1 == game_2)\n",
    "\n",
    "# returns false as val is none \n",
    "val = None \n",
    "print(bool(val))\n",
    "\n",
    "#returns false as num is an empty sequence \n",
    "num = ()\n",
    "print(bool(num))\n",
    "\n",
    "# returns true as age is boolean \n",
    "age = True \n",
    "print(bool(age))\n"
   ]
  },
  {
   "cell_type": "markdown",
   "id": "6428075c-3140-4b4c-91c3-23eb35b877ca",
   "metadata": {},
   "source": []
  }
 ],
 "metadata": {
  "kernelspec": {
   "display_name": "Python [conda env:base] *",
   "language": "python",
   "name": "conda-base-py"
  },
  "language_info": {
   "codemirror_mode": {
    "name": "ipython",
    "version": 3
   },
   "file_extension": ".py",
   "mimetype": "text/x-python",
   "name": "python",
   "nbconvert_exporter": "python",
   "pygments_lexer": "ipython3",
   "version": "3.12.7"
  }
 },
 "nbformat": 4,
 "nbformat_minor": 5
}
