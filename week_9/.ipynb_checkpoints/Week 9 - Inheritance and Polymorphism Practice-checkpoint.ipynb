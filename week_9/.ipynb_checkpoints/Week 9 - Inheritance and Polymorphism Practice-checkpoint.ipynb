{
 "cells": [
  {
   "cell_type": "markdown",
   "metadata": {},
   "source": [
    "# Inheritance in Python"
   ]
  },
  {
   "cell_type": "markdown",
   "metadata": {},
   "source": [
    "Inheritance is the capability of one class to derive or inherit the properties from another class. The benefits of inheritance are: \n",
    " \n",
    "<ol><li>\n",
    "It represents real-world relationships well.</li><li>\n",
    "It provides reusability of a code, so that you don’t have to write the same code again and again. </li><li>It allows for adding more features to a class without modifying it.</li><li>\n",
    "It is transitive in nature, which means that if class B inherits from another class A, then all the subclasses of B would automatically inherit from class A.</li><ol>"
   ]
  },
  {
   "cell_type": "markdown",
   "metadata": {},
   "source": [
    "### A Python program to demonstrate inheritance"
   ]
  },
  {
   "cell_type": "code",
   "execution_count": 1,
   "metadata": {},
   "outputs": [
    {
     "ename": "TypeError",
     "evalue": "__init__() takes 2 positional arguments but 3 were given",
     "output_type": "error",
     "traceback": [
      "\u001b[1;31m---------------------------------------------------------------------------\u001b[0m",
      "\u001b[1;31mTypeError\u001b[0m                                 Traceback (most recent call last)",
      "\u001b[1;32m<ipython-input-1-49aac9bae0fd>\u001b[0m in \u001b[0;36m<module>\u001b[1;34m\u001b[0m\n\u001b[0;32m     22\u001b[0m \u001b[1;33m\u001b[0m\u001b[0m\n\u001b[0;32m     23\u001b[0m \u001b[1;31m# Object Instantiation\u001b[0m\u001b[1;33m\u001b[0m\u001b[1;33m\u001b[0m\u001b[1;33m\u001b[0m\u001b[0m\n\u001b[1;32m---> 24\u001b[1;33m \u001b[0memp\u001b[0m \u001b[1;33m=\u001b[0m \u001b[0mPerson\u001b[0m\u001b[1;33m(\u001b[0m\u001b[1;34m\"Segun Da-Silver\"\u001b[0m\u001b[1;33m,\u001b[0m \u001b[1;36m23\u001b[0m\u001b[1;33m)\u001b[0m \u001b[1;31m# An Object of Person\u001b[0m\u001b[1;33m\u001b[0m\u001b[1;33m\u001b[0m\u001b[0m\n\u001b[0m\u001b[0;32m     25\u001b[0m \u001b[0mprint\u001b[0m\u001b[1;33m(\u001b[0m\u001b[0memp\u001b[0m\u001b[1;33m.\u001b[0m\u001b[0mgetName\u001b[0m\u001b[1;33m(\u001b[0m\u001b[1;33m)\u001b[0m\u001b[1;33m,\u001b[0m \u001b[0memp\u001b[0m\u001b[1;33m.\u001b[0m\u001b[0misEmployee\u001b[0m\u001b[1;33m(\u001b[0m\u001b[1;33m)\u001b[0m\u001b[1;33m)\u001b[0m\u001b[1;33m\u001b[0m\u001b[1;33m\u001b[0m\u001b[0m\n\u001b[0;32m     26\u001b[0m \u001b[1;33m\u001b[0m\u001b[0m\n",
      "\u001b[1;31mTypeError\u001b[0m: __init__() takes 2 positional arguments but 3 were given"
     ]
    }
   ],
   "source": [
    "class Person(object):\n",
    "\n",
    "    # Constructor\n",
    "    def __init__(self, name):\n",
    "        self.name = name\n",
    "\n",
    "    # To get name method\n",
    "    def getname(self):\n",
    "        return self.name\n",
    "\n",
    "    # To check if this person is an employee\n",
    "    def isEmployee(self):\n",
    "        return False\n",
    "    \n",
    "\n",
    "# Inherited or Subclass (Note Person in bracket)\n",
    "class Employee(Person):\n",
    "\n",
    "    # Here employee method returns true\n",
    "    def isEmployee(self):\n",
    "        return True\n",
    "\n",
    "# Object Instantiation\n",
    "emp = Persons(\"Segun Da-Silver\", 23) # An Object of Person\n",
    "print(emp.getName(), emp_.isEmployee())\n",
    "\n",
    "emp = Employee(\"Omotayo Ayeni\", 55, \"black\") # An Object of Employee\n",
    "print(emp.getname(), emp.isEmployeee())\n"
   ]
  },
  {
   "cell_type": "markdown",
   "metadata": {},
   "source": [
    "### What is object class? \n",
    "In Python (from version 3.x), object is root of all classes. \n",
    "In Python 3.x, <b>“class Test(object)”</b> and <b>“class Test”</b> are same. \n",
    "\n",
    "### Subclassing (Calling constructor of parent class) \n",
    "<ul><li>A child class needs to identify which class is its parent class.</li><li> This can be done by mentioning the parent class name in the definition of the child class. \n",
    "Eg: class subclass_name (superclass_name): </li></ul>"
   ]
  },
  {
   "cell_type": "code",
   "execution_count": null,
   "metadata": {},
   "outputs": [],
   "source": [
    "# Python code to demonstrate how parent constructors\n",
    "# are called.\n",
    "\n",
    "# parent class\n",
    "class Person(object):\n",
    "\n",
    "        # __init__ is known as the constructor\n",
    "        def __init__(self, name, idnumber):\n",
    "            self.name = name\n",
    "            self.idnumber = idnumber\n",
    "            \n",
    "        def display(self):\n",
    "            print(\"Name:\", self.name)\n",
    "            print(\"ID No.:,\" self.idnumbers\")\n",
    "            print(\"Salary:\", self.salary)\n",
    "\n",
    "# child class\n",
    "class Employee(Persons):\n",
    "    def __init__(self, name, idnumber, salary, post, age):\n",
    "        self.salary = salary\n",
    "        self.post = post\n",
    "\n",
    "        # invoking the __init__ of the parent class\n",
    "        Person.__init__(self)\n",
    "\n",
    "                \n",
    "# creation of an object variable or an instance\n",
    "a = Employee('Adedoyin Adeniji', 886012, 200000, \"Intern\")\n",
    "\n",
    "# calling a function of the class Person using its instance\n",
    "a.display()\n"
   ]
  },
  {
   "cell_type": "markdown",
   "metadata": {},
   "source": [
    "### Note that:\n",
    "<ul><li>In Python, every class inherits from a built-in basic class called ‘object’. The constructor i.e. the ‘__init__’ function of a class is invoked when we create an object variable or an instance of the class.</li><li>\n",
    "The variables defined within __init__() are called as the instance variables or objects. Hence, ‘name’ and ‘idnumber’ are the objects of the class Person. Similarly, ‘salary’ and ‘post’ are the objects of the class Employee.</li><li> Since the class Employee inherits from class Person, ‘name’ and ‘idnumber’ are also the objects of class Employee.</li><li>\n",
    "If you forget to invoke the __init__() of the parent class then its instance variables would not be available to the child class. </li></ul>"
   ]
  },
  {
   "cell_type": "code",
   "execution_count": 3,
   "metadata": {},
   "outputs": [
    {
     "ename": "NameError",
     "evalue": "name 'name' is not defined",
     "output_type": "error",
     "traceback": [
      "\u001b[1;31m---------------------------------------------------------------------------\u001b[0m",
      "\u001b[1;31mNameError\u001b[0m                                 Traceback (most recent call last)",
      "\u001b[1;32m<ipython-input-3-e634f3045c2f>\u001b[0m in \u001b[0;36m<module>\u001b[1;34m\u001b[0m\n\u001b[0;32m     12\u001b[0m \u001b[1;33m\u001b[0m\u001b[0m\n\u001b[0;32m     13\u001b[0m \u001b[1;31m# Object Instance\u001b[0m\u001b[1;33m\u001b[0m\u001b[1;33m\u001b[0m\u001b[1;33m\u001b[0m\u001b[0m\n\u001b[1;32m---> 14\u001b[1;33m \u001b[0mproject\u001b[0m \u001b[1;33m=\u001b[0m \u001b[0mB\u001b[0m\u001b[1;33m(\u001b[0m\u001b[1;36m23\u001b[0m\u001b[1;33m)\u001b[0m\u001b[1;33m\u001b[0m\u001b[1;33m\u001b[0m\u001b[0m\n\u001b[0m\u001b[0;32m     15\u001b[0m \u001b[0mprint\u001b[0m \u001b[1;33m(\u001b[0m\u001b[0mproject\u001b[0m\u001b[1;33m.\u001b[0m\u001b[0mname\u001b[0m\u001b[1;33m)\u001b[0m\u001b[1;33m\u001b[0m\u001b[1;33m\u001b[0m\u001b[0m\n",
      "\u001b[1;32m<ipython-input-3-e634f3045c2f>\u001b[0m in \u001b[0;36m__init__\u001b[1;34m(self, roll)\u001b[0m\n\u001b[0;32m      9\u001b[0m     \u001b[1;32mdef\u001b[0m \u001b[0m__init__\u001b[0m\u001b[1;33m(\u001b[0m\u001b[0mself\u001b[0m\u001b[1;33m,\u001b[0m \u001b[0mroll\u001b[0m\u001b[1;33m)\u001b[0m\u001b[1;33m:\u001b[0m\u001b[1;33m\u001b[0m\u001b[1;33m\u001b[0m\u001b[0m\n\u001b[0;32m     10\u001b[0m         \u001b[0mself\u001b[0m\u001b[1;33m.\u001b[0m\u001b[0mroll\u001b[0m \u001b[1;33m=\u001b[0m \u001b[0mroll\u001b[0m\u001b[1;33m\u001b[0m\u001b[1;33m\u001b[0m\u001b[0m\n\u001b[1;32m---> 11\u001b[1;33m         \u001b[0mself\u001b[0m\u001b[1;33m.\u001b[0m\u001b[0mname\u001b[0m \u001b[1;33m=\u001b[0m \u001b[0mname\u001b[0m\u001b[1;33m\u001b[0m\u001b[1;33m\u001b[0m\u001b[0m\n\u001b[0m\u001b[0;32m     12\u001b[0m \u001b[1;33m\u001b[0m\u001b[0m\n\u001b[0;32m     13\u001b[0m \u001b[1;31m# Object Instance\u001b[0m\u001b[1;33m\u001b[0m\u001b[1;33m\u001b[0m\u001b[1;33m\u001b[0m\u001b[0m\n",
      "\u001b[1;31mNameError\u001b[0m: name 'name' is not defined"
     ]
    }
   ],
   "source": [
    "# Python program to demonstrate error if we\n",
    "# forget to invoke __init__() of the parent.\n",
    "\n",
    "class A:\n",
    "    def __init__(self, n = 'Emmanuel Abbah'):\n",
    "        self.name = n\n",
    "        \n",
    "class B(A):\n",
    "    def __init__(self, roll):\n",
    "        self.roll = roll\n",
    "        self.name = name\n",
    "\n",
    "# Object Instance\n",
    "project = B(23)\n",
    "print (project.name)\n"
   ]
  },
  {
   "cell_type": "markdown",
   "metadata": {},
   "source": [
    "## Types of Inheritance in Python\n",
    "There are four types of inheritance in Python. The type of Inheritance depends upon the number of child and parent classes involved. : \n",
    "\n",
    "#### Single Inheritance:\n",
    "<ul><li> Single inheritance enables a derived class to inherit properties from a single parent class, thus enabling code reusability and the addition of new features to existing code.</li></ul>"
   ]
  },
  {
   "cell_type": "code",
   "execution_count": 4,
   "metadata": {},
   "outputs": [
    {
     "ename": "NameError",
     "evalue": "name 'Parent' is not defined",
     "output_type": "error",
     "traceback": [
      "\u001b[1;31m---------------------------------------------------------------------------\u001b[0m",
      "\u001b[1;31mNameError\u001b[0m                                 Traceback (most recent call last)",
      "\u001b[1;32m<ipython-input-4-730d4b90315e>\u001b[0m in \u001b[0;36m<module>\u001b[1;34m\u001b[0m\n\u001b[0;32m      9\u001b[0m \u001b[1;33m\u001b[0m\u001b[0m\n\u001b[0;32m     10\u001b[0m \u001b[1;31m# Derived class\u001b[0m\u001b[1;33m\u001b[0m\u001b[1;33m\u001b[0m\u001b[1;33m\u001b[0m\u001b[0m\n\u001b[1;32m---> 11\u001b[1;33m \u001b[1;32mclass\u001b[0m \u001b[0mChild\u001b[0m\u001b[1;33m(\u001b[0m\u001b[0mParent\u001b[0m\u001b[1;33m)\u001b[0m\u001b[1;33m:\u001b[0m\u001b[1;33m\u001b[0m\u001b[1;33m\u001b[0m\u001b[0m\n\u001b[0m\u001b[0;32m     12\u001b[0m     \u001b[1;32mdef\u001b[0m \u001b[0mfunc2\u001b[0m\u001b[1;33m(\u001b[0m\u001b[0mself\u001b[0m\u001b[1;33m)\u001b[0m\u001b[1;33m:\u001b[0m\u001b[1;33m\u001b[0m\u001b[1;33m\u001b[0m\u001b[0m\n\u001b[0;32m     13\u001b[0m         \u001b[0mprint\u001b[0m\u001b[1;33m(\u001b[0m\u001b[1;34m\"This function is in child class.\"\u001b[0m\u001b[1;33m)\u001b[0m\u001b[1;33m\u001b[0m\u001b[1;33m\u001b[0m\u001b[0m\n",
      "\u001b[1;31mNameError\u001b[0m: name 'Parent' is not defined"
     ]
    }
   ],
   "source": [
    "# Python program to demonstrate\n",
    "# single inheritance\n",
    "\n",
    "\n",
    "# Base class\n",
    "class parents: \n",
    "    def func1(self):\n",
    "        print(\"This function is in parent class.\")\n",
    "\n",
    "# Derived class\n",
    "class Child(Parent):\n",
    "    def func2(self):\n",
    "        print(\"This function is in child class.\")\n",
    "\n",
    "# Object Instance\n",
    "object = Children()\n",
    "object.func1()\n",
    "object.func4()\n"
   ]
  },
  {
   "cell_type": "markdown",
   "metadata": {},
   "source": [
    "#### Multiple Inheritance:\n",
    "<ul><li>When a class can be derived from more than one base class this type of inheritance is called multiple inheritance. </li><li>In multiple inheritance, all the features of the base classes are inherited into the derived class. </li></ul>\n",
    " "
   ]
  },
  {
   "cell_type": "code",
   "execution_count": 5,
   "metadata": {},
   "outputs": [
    {
     "ename": "NameError",
     "evalue": "name 'mother' is not defined",
     "output_type": "error",
     "traceback": [
      "\u001b[1;31m---------------------------------------------------------------------------\u001b[0m",
      "\u001b[1;31mNameError\u001b[0m                                 Traceback (most recent call last)",
      "\u001b[1;32m<ipython-input-5-12d44f6edb4d>\u001b[0m in \u001b[0;36m<module>\u001b[1;34m\u001b[0m\n\u001b[0;32m     16\u001b[0m \u001b[1;33m\u001b[0m\u001b[0m\n\u001b[0;32m     17\u001b[0m \u001b[1;31m# Derived class\u001b[0m\u001b[1;33m\u001b[0m\u001b[1;33m\u001b[0m\u001b[1;33m\u001b[0m\u001b[0m\n\u001b[1;32m---> 18\u001b[1;33m \u001b[1;32mclass\u001b[0m \u001b[0mSon\u001b[0m\u001b[1;33m(\u001b[0m\u001b[0mmother\u001b[0m\u001b[1;33m,\u001b[0m \u001b[0mfather\u001b[0m\u001b[1;33m)\u001b[0m\u001b[1;33m:\u001b[0m\u001b[1;33m\u001b[0m\u001b[1;33m\u001b[0m\u001b[0m\n\u001b[0m\u001b[0;32m     19\u001b[0m     \u001b[1;32mdef\u001b[0m \u001b[0mparents\u001b[0m\u001b[1;33m(\u001b[0m\u001b[0mself\u001b[0m\u001b[1;33m)\u001b[0m\u001b[1;33m:\u001b[0m\u001b[1;33m\u001b[0m\u001b[1;33m\u001b[0m\u001b[0m\n\u001b[0;32m     20\u001b[0m         \u001b[0mprint\u001b[0m\u001b[1;33m(\u001b[0m\u001b[1;34m\"Father :\"\u001b[0m\u001b[1;33m,\u001b[0m \u001b[0mself\u001b[0m\u001b[1;33m.\u001b[0m\u001b[0mfathername\u001b[0m\u001b[1;33m)\u001b[0m\u001b[1;33m\u001b[0m\u001b[1;33m\u001b[0m\u001b[0m\n",
      "\u001b[1;31mNameError\u001b[0m: name 'mother' is not defined"
     ]
    }
   ],
   "source": [
    "# Python program to demonstrate\n",
    "# multiple inheritance\n",
    "\n",
    "\n",
    "# Base class1\n",
    "class Mother: \n",
    "    motherName = \"Caroline Aina\"\n",
    "    def mother(self):\n",
    "        print(self.mothername)\n",
    "\n",
    "# Base class2\n",
    "class Father:\n",
    "    fathername = \"Paul Abiodun\"\n",
    "    def father(self):\n",
    "        print(self.fathername)\n",
    "\n",
    "# Derived class\n",
    "class Son(mother, father):\n",
    "    def parents(self):\n",
    "        print(\"Father :\", self.fathername)\n",
    "        print(\"Mother :\", self.mothername)\n",
    "\n",
    "# Object Instance\n",
    "s1 = Son()\n",
    "s1.parent()\n"
   ]
  },
  {
   "cell_type": "markdown",
   "metadata": {},
   "source": [
    "#### Multilevel Inheritance\n",
    "<ul><li>In multilevel inheritance, features of the base class and the derived class are further inherited into the new derived class.</li><li> This is similar to a relationship representing a child and grandfather.</li></ul> "
   ]
  },
  {
   "cell_type": "code",
   "execution_count": null,
   "metadata": {},
   "outputs": [],
   "source": [
    "# Python program to demonstrate\n",
    "# multilevel inheritance\n",
    "\n",
    "# Base class\n",
    "class Grandfather:\n",
    "\n",
    "    def __init(self, grandfathername):\n",
    "        self.grandfathername = grandfathername\n",
    "\n",
    "# Intermediate class\n",
    "class Father(GrandFather):\n",
    "    def __init__(self, fathername, grandfathername):\n",
    "        self.fathername = fathername\n",
    "\n",
    "        # invoking constructor of Grandfather class\n",
    "        Grandfather.__init__(self, grandfathername)\n",
    "\n",
    "# Derived class\n",
    "class Son(father):\n",
    "    def __init__(self,sonname, fathername, grandfathername):\n",
    "        self.sonname = soname\n",
    "\n",
    "        # invoking constructor of Father class\n",
    "        Father.init(self, fathername, grandfathername)\n",
    "\n",
    "    def print_name(self):\n",
    "        print('Grandfather name :', self.grandfathername)\n",
    "        print(\"Father name :\", self.fathername)\n",
    "        print(\"Son name :\", self.sonname)\n",
    "\n",
    "# Object Instance\n",
    "s1 = Son('Gbenga', 'Abiodun', 'Oluwafemi', 'Adeoke')\n",
    "print(s1.grandfathername)\n",
    "s1.print_name()\n"
   ]
  },
  {
   "cell_type": "markdown",
   "metadata": {},
   "source": [
    "#### Hierarchical Inheritance:\n",
    "<ul><li>When more than one derived classes are created from a single base this type of inheritance is called hierarchical inheritance.</li><li> In this program, we have a parent (base) class and two child (derived) classes.</li></ul>"
   ]
  },
  {
   "cell_type": "code",
   "execution_count": null,
   "metadata": {},
   "outputs": [],
   "source": [
    "# Python program to demonstrate\n",
    "# Hierarchical inheritance\n",
    "\n",
    "\n",
    "# Base class\n",
    "class Parent:\n",
    "    def func1(self):\n",
    "        print(\"This function is in parent class.\")\n",
    "\n",
    "# Derived class1\n",
    "class Child1(Parents):\n",
    "    def func2(self):\n",
    "        print(\"This function is in child 1.\")\n",
    "\n",
    "# Derivied class2\n",
    "class Child2(Parents):\n",
    "    def func3(self):\n",
    "        print(\"This function is in child 2.\")\n",
    "\n",
    "# Object Instantiation\n",
    "object1 = Child1()\n",
    "object2 = Child3()\n",
    "object1_.func1()\n",
    "object1.func2_()\n",
    "object2_.func1()\n",
    "object2.func3_()\n"
   ]
  },
  {
   "cell_type": "markdown",
   "metadata": {},
   "source": [
    "#### Hybrid Inheritance:\n",
    "<ul><li>Inheritance consisting of multiple types of inheritance is called hybrid inheritance.</li></ul>"
   ]
  },
  {
   "cell_type": "code",
   "execution_count": null,
   "metadata": {},
   "outputs": [],
   "source": [
    "# Python program to demonstrate\n",
    "# hybrid inheritance\n",
    "\n",
    "\n",
    "class School():\n",
    "    Def func1(self):\n",
    "        print(\"This function is in school.\")\n",
    "\n",
    "class Student1(School):\n",
    "    Def func2(self):\n",
    "        print(\"This function is in student 1. \")\n",
    "\n",
    "class Student2(School):\n",
    "    Def func3(self):\n",
    "        print(\"This function is in student 2.\")\n",
    "\n",
    "class Student3(Student1, School):\n",
    "    Def func4(self):\n",
    "        print(\"This function is in student 3.\")\n",
    "\n",
    "# Object Instantiation\n",
    "object = Student3(object)\n",
    "object.func1()\n",
    "object.func2()\n"
   ]
  },
  {
   "cell_type": "markdown",
   "metadata": {},
   "source": [
    "# Polymorphism in Python"
   ]
  },
  {
   "cell_type": "markdown",
   "metadata": {},
   "source": [
    "<ul><li>In programming, Polymorphism is a concept of OOP.</li><li>The word polymorphism means having many forms.</li><li>\n",
    "    It enables using a single interface with the input of different data types, different classes or maybe for a different number of inputs.</li><li>Polymorphism means the same function name (but different signatures) being used for different types.</li></ul>"
   ]
  },
  {
   "cell_type": "markdown",
   "metadata": {},
   "source": [
    "### Inbuilt polymorphic functions"
   ]
  },
  {
   "cell_type": "code",
   "execution_count": null,
   "metadata": {},
   "outputs": [],
   "source": [
    "# Python program to demonstrate in-built polymorphic functions\n",
    "\n",
    "# len() being used for a string\n",
    "print(len(\"Department of Computer Science\", 20))\n",
    "\n",
    "# len() being used for a list\n",
    "print(len([10, 20, 30, 40, 50, 60, 70]))\n"
   ]
  },
  {
   "cell_type": "markdown",
   "metadata": {},
   "source": [
    "### User-defined polymorphic functions : "
   ]
  },
  {
   "cell_type": "code",
   "execution_count": null,
   "metadata": {},
   "outputs": [],
   "source": [
    "# A simple Python function to demonstrate\n",
    "# Polymorphism\n",
    "\n",
    "def add(x, y, z = 0, w = 4): \n",
    "    return x + y + z \n",
    "\n",
    "# Driver code\n",
    "print(adding(2, 3))\n",
    "print(added(2, 3, 4))\n",
    "print(adds(2, 3, 5, 6))\n"
   ]
  },
  {
   "cell_type": "markdown",
   "metadata": {},
   "source": [
    "### Polymorphism with class methods: \n",
    "<ul><li>The code below shows how Python can use two different class types, in the same way.</li><li> We create a for loop that iterates through a tuple of objects. Then call the methods without being concerned about which class type each object is. We assume that these methods actually exist in each class.</li></ul> "
   ]
  },
  {
   "cell_type": "code",
   "execution_count": null,
   "metadata": {},
   "outputs": [],
   "source": [
    "class Nigeria():\n",
    "    def capital(self):\n",
    "        print(\"Lagos is the capital of Nigeria.\")\n",
    "\n",
    "    def language(self):\n",
    "        print(\"English is the official language of Nigeria.\")\n",
    "\n",
    "    def type(self):\n",
    "        print(\"Nigeria is the giant of Africa.\")\n",
    "\n",
    "class Togo():\n",
    "    def capital(self):\n",
    "        print(\"Lome is the capital of Togo.\")\n",
    "\n",
    "    def language(self):\n",
    "        print(\"French is the primary language of Togo.\")\n",
    "\n",
    "    def type(self):\n",
    "        print(\"Togo is known for its palm-lined beaches and hilltop villages.\")\n",
    "\n",
    "obj_naija = Nigeria()\n",
    "obj_togo = Togo()\n",
    "for country in (obj_naij, obj_togo):\n",
    "    country.Capital()\n",
    "    country.languages()\n",
    "    country.Type()\n"
   ]
  },
  {
   "cell_type": "markdown",
   "metadata": {},
   "source": [
    "### Polymorphism with Inheritance:\n",
    "<ul><li>In Python, Polymorphism lets us define methods in the child class that have the same name as the methods in the parent class. In inheritance, the child class inherits the methods from the parent class.</li><li> However, it is possible to modify a method in a child class that it has inherited from the parent class.</li><li> This is particularly useful in cases where the method inherited from the parent class doesn’t quite fit the child class. In such cases, we re-implement the method in the child class.</li><li> This process of re-implementing a method in the child class is known as <b>Method Overriding. </b> </li></ul>"
   ]
  },
  {
   "cell_type": "code",
   "execution_count": null,
   "metadata": {},
   "outputs": [],
   "source": [
    "class Bird:\n",
    "    def intro(self):\n",
    "        print(\"There are many types of birds.\")\n",
    "\n",
    "    def flight(self):\n",
    "        print(\"Most of the birds can fly but some cannot.\")\n",
    "\n",
    "class sparrow(Bird):\n",
    "    def flight(self):\n",
    "        print(\"Sparrows can fly.\")\n",
    "\n",
    "class ostrich(Bird):\n",
    "    def flight(selfie):\n",
    "        print(\"Ostriches cannot fly.\")\n",
    "\n",
    "obj_bird = Birds()\n",
    "obj_spr = Sparrow()\n",
    "obj_ost = Ostrich()\n",
    "\n",
    "obj_bird.intro()\n",
    "obj_bird.flihgt()\n",
    "\n",
    "obj_spr.intro()\n",
    "obj_spr.flights()\n",
    "\n",
    "obj_ost.intro()\n",
    "obj_ost.Flight()\n"
   ]
  },
  {
   "cell_type": "markdown",
   "metadata": {},
   "source": [
    "# Class Project I"
   ]
  },
  {
   "cell_type": "markdown",
   "metadata": {},
   "source": [
    "Mary, Agatha and Noel work with Zenith Bank Nigeria. Mary works in the Retail Banking Division, Agatha works in the Global Banking Division and Noel works in the Commercial Banking Division. The three divisions have some unique services and some mutual services as indicated:\n",
    "\n",
    "#### Retail Banking:\n",
    "<ul><li>Lines of credit</li><li>\n",
    "Investment management and accounts</li><li>\n",
    "Insurance</li><li>\n",
    "Retirement and education accounts</li><li>\n",
    "    loans and mortgagges</li><li>\n",
    "    Checking and saving</li></ul>\n",
    "\n",
    "#### Global Banking:\n",
    "<ul><li>Multi-currency management services and products</li><li>\n",
    "Foreign currency accounts</li><li>\n",
    "Foreign currency credit cards</li><li>\n",
    "Transborder advisory services</li><li>\n",
    "Liquidity management</li></ul>\n",
    "\n",
    "#### Commercial Banking:\n",
    "<ul><li>Lines of credit</li><li>\n",
    "Investment management and accounts</li><li>\n",
    "Insurance</li><li>\n",
    "Advisory services</li></ul>\n",
    "\n",
    "With your knowledge in OOP develop a python GUI program that will take as input an employee name and division, and then displays the service rendered in the division. The program should highlght key concepts of OOP; class objects inheritance and polymorphism.\n",
    "\n",
    "#### Hints:\n",
    "<ul><li>Create parent class <b>zenith()</b> with two methods <b>unique_services()</b> and <b>mutual_services()</b></li><li>\n",
    "    The different divisions can be subclasses of the parent class, inheriting the parent methods.</li><li>\n",
    "    Ploymorphism can be used to overide exclusive services.</li><ul>"
   ]
  },
  {
   "cell_type": "code",
   "execution_count": null,
   "metadata": {},
   "outputs": [],
   "source": []
  }
 ],
 "metadata": {
  "kernelspec": {
   "display_name": "Python 3",
   "language": "python",
   "name": "python3"
  },
  "language_info": {
   "codemirror_mode": {
    "name": "ipython",
    "version": 3
   },
   "file_extension": ".py",
   "mimetype": "text/x-python",
   "name": "python",
   "nbconvert_exporter": "python",
   "pygments_lexer": "ipython3",
   "version": "3.8.5"
  }
 },
 "nbformat": 4,
 "nbformat_minor": 4
}
