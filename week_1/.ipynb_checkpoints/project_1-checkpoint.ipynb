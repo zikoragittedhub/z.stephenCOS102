{
 "cells": [
  {
   "cell_type": "code",
   "execution_count": 16,
   "id": "d794437e-9b2f-49c5-ae78-39b07b2b82cf",
   "metadata": {},
   "outputs": [
    {
     "name": "stdout",
     "output_type": "stream",
     "text": [
      "1200.0\n",
      "the simple interest = 1200.0\n",
      "1526878.90625\n",
      "the compound interest = 1526878.90625\n",
      "1801420.3125\n",
      "the annuinty plan = 1801420.3125\n"
     ]
    }
   ],
   "source": [
    "# input of values \n",
    "p = 1000\n",
    "r = 5\n",
    "n = 2\n",
    "t = 4\n",
    "pmt = 200\n",
    "simple_interest = p*(1+(r/100)*t)\n",
    "print(simple_interest)\n",
    "print(\"the simple interest =\", simple_interest)\n",
    "\n",
    "compound_interest = p*(1+(r/n)**(n*t))\n",
    "print(compound_interest)\n",
    "print(\"the compound interest =\", compound_interest)\n",
    "\n",
    "annuinty_plan = pmt*(((1+(r/n))**(n*t) -1)/(r/n))\n",
    "print(annuinty_plan)\n",
    "print(\"the annuinty plan =\", annuinty_plan)"
   ]
  },
  {
   "cell_type": "code",
   "execution_count": null,
   "id": "6ef11e4e-1f93-4489-84b4-88a7f7522be0",
   "metadata": {},
   "outputs": [],
   "source": []
  },
  {
   "cell_type": "code",
   "execution_count": null,
   "id": "7a3ec8d9-d135-4063-af0e-57fd06ddedc6",
   "metadata": {},
   "outputs": [],
   "source": []
  }
 ],
 "metadata": {
  "kernelspec": {
   "display_name": "Python [conda env:base] *",
   "language": "python",
   "name": "conda-base-py"
  },
  "language_info": {
   "codemirror_mode": {
    "name": "ipython",
    "version": 3
   },
   "file_extension": ".py",
   "mimetype": "text/x-python",
   "name": "python",
   "nbconvert_exporter": "python",
   "pygments_lexer": "ipython3",
   "version": "3.12.7"
  }
 },
 "nbformat": 4,
 "nbformat_minor": 5
}
